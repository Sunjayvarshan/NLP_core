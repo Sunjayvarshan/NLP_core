{
 "cells": [
  {
   "cell_type": "code",
   "execution_count": 1,
   "metadata": {},
   "outputs": [
    {
     "data": {
      "text/plain": [
       "{'feed': 4,\n",
       " 'thy': 8,\n",
       " 'dogs': 3,\n",
       " 'and': 0,\n",
       " 'it': 6,\n",
       " 'will': 9,\n",
       " 'be': 1,\n",
       " 'of': 7,\n",
       " 'great': 5,\n",
       " 'companionshp': 2}"
      ]
     },
     "execution_count": 1,
     "metadata": {},
     "output_type": "execute_result"
    }
   ],
   "source": [
    "from sklearn.feature_extraction.text import CountVectorizer\n",
    "\n",
    "v = CountVectorizer()\n",
    "v.fit(['feed thy dogs and it will be of great companionshp'])\n",
    "v.vocabulary_"
   ]
  },
  {
   "cell_type": "code",
   "execution_count": 2,
   "metadata": {},
   "outputs": [
    {
     "data": {
      "text/plain": [
       "{'feed': 7,\n",
       " 'thy': 15,\n",
       " 'dogs': 5,\n",
       " 'and': 0,\n",
       " 'it': 11,\n",
       " 'will': 17,\n",
       " 'be': 2,\n",
       " 'of': 13,\n",
       " 'great': 9,\n",
       " 'companionshp': 4,\n",
       " 'feed thy': 8,\n",
       " 'thy dogs': 16,\n",
       " 'dogs and': 6,\n",
       " 'and it': 1,\n",
       " 'it will': 12,\n",
       " 'will be': 18,\n",
       " 'be of': 3,\n",
       " 'of great': 14,\n",
       " 'great companionshp': 10}"
      ]
     },
     "execution_count": 2,
     "metadata": {},
     "output_type": "execute_result"
    }
   ],
   "source": [
    "v = CountVectorizer(ngram_range=(1,2))\n",
    "v.fit(['feed thy dogs and it will be of great companionshp'])\n",
    "v.vocabulary_"
   ]
  },
  {
   "cell_type": "code",
   "execution_count": 3,
   "metadata": {},
   "outputs": [
    {
     "data": {
      "text/plain": [
       "{'feed': 10,\n",
       " 'thy': 21,\n",
       " 'dogs': 7,\n",
       " 'and': 0,\n",
       " 'it': 15,\n",
       " 'will': 24,\n",
       " 'be': 3,\n",
       " 'of': 18,\n",
       " 'great': 13,\n",
       " 'companionshp': 6,\n",
       " 'feed thy': 11,\n",
       " 'thy dogs': 22,\n",
       " 'dogs and': 8,\n",
       " 'and it': 1,\n",
       " 'it will': 16,\n",
       " 'will be': 25,\n",
       " 'be of': 4,\n",
       " 'of great': 19,\n",
       " 'great companionshp': 14,\n",
       " 'feed thy dogs': 12,\n",
       " 'thy dogs and': 23,\n",
       " 'dogs and it': 9,\n",
       " 'and it will': 2,\n",
       " 'it will be': 17,\n",
       " 'will be of': 26,\n",
       " 'be of great': 5,\n",
       " 'of great companionshp': 20}"
      ]
     },
     "execution_count": 3,
     "metadata": {},
     "output_type": "execute_result"
    }
   ],
   "source": [
    "v = CountVectorizer(ngram_range=(1,3))\n",
    "v.fit(['feed thy dogs and it will be of great companionshp'])\n",
    "v.vocabulary_"
   ]
  },
  {
   "cell_type": "code",
   "execution_count": 9,
   "metadata": {},
   "outputs": [],
   "source": [
    "bucket = [\n",
    "    'zamil went to school yesterday',\n",
    "    'Reni ate briyani for lunch',\n",
    "    'Rishap lost his balls'\n",
    "]"
   ]
  },
  {
   "cell_type": "code",
   "execution_count": 6,
   "metadata": {},
   "outputs": [],
   "source": [
    "import spacy\n",
    "\n",
    "nlp = spacy.load(\"en_core_web_sm\")\n",
    "\n",
    "def preprocess(text):\n",
    "    doc = nlp(text)\n",
    "    filtered_tokens = []\n",
    "    for token in doc:\n",
    "        if token.is_stop or token.is_punct:\n",
    "            continue\n",
    "        filtered_tokens.append(token.lemma_)\n",
    "        \n",
    "    return \" \".join(filtered_tokens) \n",
    "        "
   ]
  },
  {
   "cell_type": "code",
   "execution_count": 7,
   "metadata": {},
   "outputs": [
    {
     "data": {
      "text/plain": [
       "'kumar miss day night'"
      ]
     },
     "execution_count": 7,
     "metadata": {},
     "output_type": "execute_result"
    }
   ],
   "source": [
    "preprocess('kumar was missing for three days and two nights')"
   ]
  },
  {
   "cell_type": "code",
   "execution_count": 10,
   "metadata": {},
   "outputs": [
    {
     "data": {
      "text/plain": [
       "['zamil go school yesterday', 'reni eat briyani lunch', 'rishap lose ball']"
      ]
     },
     "execution_count": 10,
     "metadata": {},
     "output_type": "execute_result"
    }
   ],
   "source": [
    "processed_bucket = [\n",
    "    preprocess(text) for text in bucket\n",
    "]\n",
    "processed_bucket"
   ]
  },
  {
   "cell_type": "code",
   "execution_count": 12,
   "metadata": {},
   "outputs": [
    {
     "data": {
      "text/plain": [
       "{'zamil': 17,\n",
       " 'go': 5,\n",
       " 'school': 14,\n",
       " 'yesterday': 16,\n",
       " 'zamil go': 18,\n",
       " 'go school': 6,\n",
       " 'school yesterday': 15,\n",
       " 'reni': 10,\n",
       " 'eat': 3,\n",
       " 'briyani': 1,\n",
       " 'lunch': 9,\n",
       " 'reni eat': 11,\n",
       " 'eat briyani': 4,\n",
       " 'briyani lunch': 2,\n",
       " 'rishap': 12,\n",
       " 'lose': 7,\n",
       " 'ball': 0,\n",
       " 'rishap lose': 13,\n",
       " 'lose ball': 8}"
      ]
     },
     "execution_count": 12,
     "metadata": {},
     "output_type": "execute_result"
    }
   ],
   "source": [
    "v = CountVectorizer(ngram_range=(1,2))\n",
    "v.fit(processed_bucket)\n",
    "v.vocabulary_"
   ]
  },
  {
   "cell_type": "code",
   "execution_count": 13,
   "metadata": {},
   "outputs": [
    {
     "data": {
      "text/plain": [
       "array([[0, 0, 0, 0, 0, 0, 0, 0, 0, 0, 0, 0, 0, 0, 1, 1, 1, 0, 0]])"
      ]
     },
     "execution_count": 13,
     "metadata": {},
     "output_type": "execute_result"
    }
   ],
   "source": [
    "v.transform(['sunjay went to school yesterday']).toarray()"
   ]
  }
 ],
 "metadata": {
  "kernelspec": {
   "display_name": "nlp_env",
   "language": "python",
   "name": "python3"
  },
  "language_info": {
   "codemirror_mode": {
    "name": "ipython",
    "version": 3
   },
   "file_extension": ".py",
   "mimetype": "text/x-python",
   "name": "python",
   "nbconvert_exporter": "python",
   "pygments_lexer": "ipython3",
   "version": "3.12.5"
  }
 },
 "nbformat": 4,
 "nbformat_minor": 2
}
