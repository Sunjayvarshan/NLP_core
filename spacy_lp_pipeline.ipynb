{
 "cells": [
  {
   "cell_type": "code",
   "execution_count": 1,
   "metadata": {},
   "outputs": [
    {
     "name": "stdout",
     "output_type": "stream",
     "text": [
      "The\n",
      "sun\n",
      "did\n",
      "gaze\n",
      "upon\n",
      "the\n",
      "peasants\n",
      "toiling\n",
      "in\n",
      "the\n",
      "fields\n",
      ",\n",
      "and\n",
      "one\n",
      "of\n",
      "them\n",
      "spake\n",
      ",\n",
      "'\n",
      "I\n",
      "shall\n",
      "not\n",
      "yield\n",
      ",\n",
      "though\n",
      "the\n",
      "sun\n",
      "doth\n",
      "smile\n",
      "upon\n",
      "me\n",
      ".\n",
      "'\n"
     ]
    }
   ],
   "source": [
    "import spacy\n",
    "\n",
    "nlp = spacy.blank(\"en\")\n",
    "\n",
    "doc = nlp(\"The sun did gaze upon the peasants toiling in the fields, and one of them spake, 'I shall not yield, though the sun doth smile upon me.'\")\n",
    "\n",
    "for token in doc:\n",
    "    print(token)"
   ]
  },
  {
   "cell_type": "code",
   "execution_count": 4,
   "metadata": {},
   "outputs": [
    {
     "data": {
      "text/plain": [
       "[]"
      ]
     },
     "execution_count": 4,
     "metadata": {},
     "output_type": "execute_result"
    }
   ],
   "source": [
    "nlp.pipe_names"
   ]
  },
  {
   "cell_type": "code",
   "execution_count": 6,
   "metadata": {},
   "outputs": [
    {
     "data": {
      "text/plain": [
       "['tok2vec', 'tagger', 'parser', 'attribute_ruler', 'lemmatizer', 'ner']"
      ]
     },
     "execution_count": 6,
     "metadata": {},
     "output_type": "execute_result"
    }
   ],
   "source": [
    "nlp = spacy.load(\"en_core_web_sm\")\n",
    "nlp.pipe_names"
   ]
  },
  {
   "cell_type": "code",
   "execution_count": 7,
   "metadata": {},
   "outputs": [
    {
     "data": {
      "text/plain": [
       "[('tok2vec', <spacy.pipeline.tok2vec.Tok2Vec at 0x1151daab0>),\n",
       " ('tagger', <spacy.pipeline.tagger.Tagger at 0x1151da870>),\n",
       " ('parser', <spacy.pipeline.dep_parser.DependencyParser at 0x1152358c0>),\n",
       " ('attribute_ruler',\n",
       "  <spacy.pipeline.attributeruler.AttributeRuler at 0x11536d9d0>),\n",
       " ('lemmatizer', <spacy.lang.en.lemmatizer.EnglishLemmatizer at 0x11537c450>),\n",
       " ('ner', <spacy.pipeline.ner.EntityRecognizer at 0x1152359a0>)]"
      ]
     },
     "execution_count": 7,
     "metadata": {},
     "output_type": "execute_result"
    }
   ],
   "source": [
    "nlp.pipeline"
   ]
  },
  {
   "cell_type": "code",
   "execution_count": 8,
   "metadata": {},
   "outputs": [
    {
     "name": "stdout",
     "output_type": "stream",
     "text": [
      "The  |  determiner  |  the\n",
      "sun  |  noun  |  sun\n",
      "did  |  auxiliary  |  do\n",
      "gaze  |  verb  |  gaze\n",
      "upon  |  subordinating conjunction  |  upon\n",
      "the  |  determiner  |  the\n",
      "peasants  |  noun  |  peasant\n",
      "toiling  |  verb  |  toil\n",
      "in  |  adposition  |  in\n",
      "the  |  determiner  |  the\n",
      "fields  |  noun  |  field\n",
      ",  |  punctuation  |  ,\n",
      "and  |  coordinating conjunction  |  and\n",
      "one  |  numeral  |  one\n",
      "of  |  adposition  |  of\n",
      "them  |  pronoun  |  they\n",
      "spake  |  adjective  |  spake\n",
      ",  |  punctuation  |  ,\n",
      "'  |  punctuation  |  '\n",
      "I  |  pronoun  |  I\n",
      "shall  |  auxiliary  |  shall\n",
      "not  |  particle  |  not\n",
      "yield  |  verb  |  yield\n",
      ",  |  punctuation  |  ,\n",
      "though  |  subordinating conjunction  |  though\n",
      "the  |  determiner  |  the\n",
      "sun  |  noun  |  sun\n",
      "doth  |  noun  |  doth\n",
      "smile  |  noun  |  smile\n",
      "upon  |  subordinating conjunction  |  upon\n",
      "me  |  pronoun  |  I\n",
      ".  |  punctuation  |  .\n",
      "'  |  punctuation  |  '\n"
     ]
    }
   ],
   "source": [
    "doc = nlp(\"The sun did gaze upon the peasants toiling in the fields, and one of them spake, 'I shall not yield, though the sun doth smile upon me.'\")\n",
    "\n",
    "for token in doc:\n",
    "    print(token, \" | \", spacy.explain(token.pos_), \" | \", token.lemma_)"
   ]
  },
  {
   "cell_type": "markdown",
   "metadata": {},
   "source": [
    "Named Entity Recognition"
   ]
  },
  {
   "cell_type": "code",
   "execution_count": 15,
   "metadata": {},
   "outputs": [
    {
     "name": "stdout",
     "output_type": "stream",
     "text": [
      "Tata ORG\n",
      "Ratan Tata PERSON\n"
     ]
    }
   ],
   "source": [
    "doc = nlp(\"Tata steel founder is Mr. Ratan Tata\")\n",
    "for ent in doc.ents:\n",
    "    print(ent.text, ent.label_)"
   ]
  },
  {
   "cell_type": "code",
   "execution_count": 16,
   "metadata": {},
   "outputs": [
    {
     "data": {
      "text/html": [
       "<span class=\"tex2jax_ignore\"><div class=\"entities\" style=\"line-height: 2.5; direction: ltr\">\n",
       "<mark class=\"entity\" style=\"background: #7aecec; padding: 0.45em 0.6em; margin: 0 0.25em; line-height: 1; border-radius: 0.35em;\">\n",
       "    Tata\n",
       "    <span style=\"font-size: 0.8em; font-weight: bold; line-height: 1; border-radius: 0.35em; vertical-align: middle; margin-left: 0.5rem\">ORG</span>\n",
       "</mark>\n",
       " steel founder is Mr. \n",
       "<mark class=\"entity\" style=\"background: #aa9cfc; padding: 0.45em 0.6em; margin: 0 0.25em; line-height: 1; border-radius: 0.35em;\">\n",
       "    Ratan Tata\n",
       "    <span style=\"font-size: 0.8em; font-weight: bold; line-height: 1; border-radius: 0.35em; vertical-align: middle; margin-left: 0.5rem\">PERSON</span>\n",
       "</mark>\n",
       "</div></span>"
      ],
      "text/plain": [
       "<IPython.core.display.HTML object>"
      ]
     },
     "metadata": {},
     "output_type": "display_data"
    }
   ],
   "source": [
    "from spacy import displacy\n",
    "\n",
    "displacy.render(doc, style=\"ent\")"
   ]
  },
  {
   "cell_type": "markdown",
   "metadata": {},
   "source": [
    "Trained processing pipeline in French"
   ]
  },
  {
   "cell_type": "code",
   "execution_count": 17,
   "metadata": {},
   "outputs": [],
   "source": [
    "nlp = spacy.load(\"fr_core_news_sm\")"
   ]
  },
  {
   "cell_type": "code",
   "execution_count": 18,
   "metadata": {},
   "outputs": [
    {
     "name": "stdout",
     "output_type": "stream",
     "text": [
      "Tesla Inc  |  PER  |  Named person or family.\n",
      "Twitter  |  MISC  |  Miscellaneous entities, e.g. events, nationalities, products or works of art\n"
     ]
    }
   ],
   "source": [
    "doc = nlp(\"Tesla Inc va racheter Twitter pour $45 milliards de dollars\")\n",
    "for ent in doc.ents:\n",
    "    print(ent.text, \" | \", ent.label_, \" | \", spacy.explain(ent.label_))"
   ]
  },
  {
   "cell_type": "code",
   "execution_count": 19,
   "metadata": {},
   "outputs": [
    {
     "name": "stdout",
     "output_type": "stream",
     "text": [
      "Tesla  |  PROPN  |  Tesla\n",
      "Inc  |  PROPN  |  Inc\n",
      "va  |  VERB  |  aller\n",
      "racheter  |  VERB  |  racheter\n",
      "Twitter  |  VERB  |  twitter\n",
      "pour  |  ADP  |  pour\n",
      "$  |  NOUN  |  dollar\n",
      "45  |  NUM  |  45\n",
      "milliards  |  NOUN  |  milliard\n",
      "de  |  ADP  |  de\n",
      "dollars  |  NOUN  |  dollar\n"
     ]
    }
   ],
   "source": [
    "for token in doc:\n",
    "    print(token, \" | \", token.pos_, \" | \", token.lemma_)"
   ]
  }
 ],
 "metadata": {
  "kernelspec": {
   "display_name": "nlp_env",
   "language": "python",
   "name": "python3"
  },
  "language_info": {
   "codemirror_mode": {
    "name": "ipython",
    "version": 3
   },
   "file_extension": ".py",
   "mimetype": "text/x-python",
   "name": "python",
   "nbconvert_exporter": "python",
   "pygments_lexer": "ipython3",
   "version": "3.12.5"
  }
 },
 "nbformat": 4,
 "nbformat_minor": 2
}
